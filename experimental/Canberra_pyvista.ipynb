{
 "cells": [
  {
   "cell_type": "code",
   "execution_count": null,
   "metadata": {},
   "outputs": [],
   "source": [
    "import sys\n",
    "import os\n",
    "import pandas as pd\n",
    "import numpy as np\n",
    "\n",
    "\n",
    "ela_from_source = False\n",
    "ela_from_source = True\n",
    "\n",
    "if ela_from_source:\n",
    "    if ('ELA_SRC' in os.environ):\n",
    "        root_src_dir = os.environ['ELA_SRC']\n",
    "    elif sys.platform == 'win32':\n",
    "        root_src_dir = r'C:\\Users\\SUD011\\Documents\\pyela-sudhir'\n",
    "    else:\n",
    "        username = os.environ['USER']\n",
    "        root_src_dir = os.path.join('/home', username, 'src/ela/pyela')\n",
    "    pkg_src_dir = root_src_dir\n",
    "    sys.path.insert(0, pkg_src_dir)"
   ]
  },
  {
   "cell_type": "code",
   "execution_count": null,
   "metadata": {},
   "outputs": [],
   "source": [
    "pkg_src_dir = \"/home/per202/src/ela/pyvista\"\n",
    "sys.path.insert(0, pkg_src_dir)\n",
    "pkg_src_dir = \"/home/per202/src/ela/itkwidgets\"\n",
    "sys.path.insert(0, pkg_src_dir)"
   ]
  },
  {
   "cell_type": "code",
   "execution_count": null,
   "metadata": {},
   "outputs": [],
   "source": [
    "import pyvista as pv\n",
    "pv.__version__"
   ]
  },
  {
   "cell_type": "code",
   "execution_count": null,
   "metadata": {},
   "outputs": [],
   "source": [
    "import itkwidgets as iw\n",
    "iw.__version__"
   ]
  },
  {
   "cell_type": "code",
   "execution_count": null,
   "metadata": {},
   "outputs": [],
   "source": [
    "#import panel\n",
    "#import PVGeo    \n",
    "#panel.extension(\"vtk\")\n",
    "#pv.set_plot_theme(\"document\")\n",
    "import warnings\n",
    "warnings.filterwarnings(\"ignore\")"
   ]
  },
  {
   "cell_type": "code",
   "execution_count": null,
   "metadata": {
    "init_cell": true
   },
   "outputs": [],
   "source": [
    "#%matplotlib inline\n",
    "#%config InlineBackend.figure_format = 'retina'"
   ]
  },
  {
   "cell_type": "markdown",
   "metadata": {},
   "source": [
    "\n",
    "## Global settings and preprocessed data\n"
   ]
  },
  {
   "cell_type": "code",
   "execution_count": null,
   "metadata": {},
   "outputs": [],
   "source": [
    "from ela.visual import discrete_classes_colormap\n",
    "from pyvista_sample.VisualizeDataProcess import VisualizeDataProcess\n",
    "\n",
    "if ('ELA_DATA' in os.environ):\n",
    "    data_path = os.environ['ELA_DATA']\n",
    "elif sys.platform == 'win32':\n",
    "    data_path = r'C:\\data\\Lithology'\n",
    "else:\n",
    "    username = os.environ['USER']\n",
    "    data_path = os.path.join('/home', username, 'data', 'Lithology')"
   ]
  },
  {
   "cell_type": "code",
   "execution_count": null,
   "metadata": {},
   "outputs": [],
   "source": [
    "import pickle\n",
    "cbr_datadir_out = os.path.join(data_path, 'Canberra','out')\n",
    "drill_data_path = os.path.join(cbr_datadir_out, 'classified_logs.pkl')\n",
    "dem_data_path = os.path.join(cbr_datadir_out,'dem_array_data.pkl')\n",
    "\n",
    "interp_litho_filename = os.path.join(cbr_datadir_out,'3d_primary_litho.pkl')\n",
    "with open(interp_litho_filename, 'rb') as handle:\n",
    "    lithology_3d_array = pickle.load(handle)\n",
    "\n",
    "# drill_data_path = r\"C:\\Users\\Dennis.H\\Desktop\\CSIRO_data\\cbr\\classified_logs.pkl\"\n",
    "# dem_data_path = r\"C:\\Users\\Dennis.H\\Desktop\\CSIRO_data\\cbr\\dem_array_data.pkl\""
   ]
  },
  {
   "cell_type": "code",
   "execution_count": null,
   "metadata": {},
   "outputs": [],
   "source": [
    "height_adjustment_factor = 20\n",
    "\n",
    "dp = VisualizeDataProcess()\n",
    "drill_data = dp.drill_file_read(drill_data_path)\n",
    "\n",
    "# A convoluted way to remove nans\n",
    "# vlah = {x for x in drill_data.Lithology_1_num.values if x==x}\n",
    "\n",
    "# drill_data = drill_data[ drill_data.BoreID == 80000156 ]\n",
    "# drill_data = drill_data[ drill_data.Lithology_1_num == 10.0 ]\n",
    "\n",
    "dem_data = dp.dem_file_read(dem_data_path)\n",
    "lines_dict = dp.drill_data_process(drill_data, height_adjustment_factor, min_tube_radius = 70)\n",
    "# temp = dp.drill_file_read(drill_data_path)\n",
    "# pd.set_option('display.max_columns', None)\n",
    "# print(temp)\n",
    "\n",
    "grid = dp.dem_data_process(dem_data, height_adjustment_factor)\n",
    "\n",
    "layer = dp.lithology_layer_process(drill_data, dem_data, 'cbr', height_adjustment_factor, 7, 10)\n",
    "\n",
    "annotations = {\n",
    "    00.0: 'shale',\n",
    "    01.0: 'clay',\n",
    "    02.0: 'granite',\n",
    "    03.0: 'soil',\n",
    "    04.0: 'sand',\n",
    "    05.0: 'porphyry',\n",
    "    06.0: 'siltstone',\n",
    "    07.0: 'dacite',\n",
    "    08.0: 'rhyodacite',\n",
    "    09.0: 'gravel',\n",
    "    10.0: 'limestone',\n",
    "    11.0: 'sandstone',\n",
    "    12.0: 'slate',\n",
    "    13.0: 'mudstone',\n",
    "    14.0: 'rock',\n",
    "    15.0: 'ignimbrite',\n",
    "    16.0: 'tuff'\n",
    "}\n",
    "\n",
    "sargs = dict(\n",
    "    n_labels=len(annotations),\n",
    "    bold=False,\n",
    "    interactive=False,\n",
    "    label_font_size=8,\n",
    "    fmt=\"%.1f\",\n",
    "    font_family=\"arial\",\n",
    "    vertical=True,\n",
    "    position_x=1,\n",
    "    position_y=0.45,\n",
    "    height=0.5,\n",
    ")"
   ]
  },
  {
   "cell_type": "code",
   "execution_count": null,
   "metadata": {},
   "outputs": [],
   "source": [
    "plotter = pv.Plotter()\n",
    "\n",
    "for well in lines_dict.keys():\n",
    "    plotter.add_mesh(lines_dict.get(well),\n",
    "                     scalars=dp.scalar_prop_name,\n",
    "                     scalar_bar_args=sargs,\n",
    "                     annotations=annotations,\n",
    "                     show_edges=False,\n",
    "                     edge_color=\"white\",\n",
    "                     n_colors=len(annotations),\n",
    "                     nan_color=\"black\",\n",
    "                     clim=[0, len(annotations)-1],\n",
    "                     opacity=1,\n",
    "                     )\n",
    "\n",
    "# plotter.add_mesh(layer, scalars=\"Lithology\", n_colors=len(annotations), clim=[0, len(annotations)-1], show_scalar_bar=False)\n",
    "plotter.add_mesh(grid, opacity=0.9)\n",
    "plotter.show_bounds(grid, show_xaxis=True, show_yaxis=True, show_zaxis=False)\n",
    "plotter.show_axes()"
   ]
  },
  {
   "cell_type": "code",
   "execution_count": null,
   "metadata": {},
   "outputs": [],
   "source": [
    "plotter.show()"
   ]
  },
  {
   "cell_type": "code",
   "execution_count": null,
   "metadata": {},
   "outputs": [],
   "source": [
    "dem_data"
   ]
  },
  {
   "cell_type": "code",
   "execution_count": null,
   "metadata": {},
   "outputs": [],
   "source": [
    "x_min, x_max, y_min, y_max =  dem_data['bounds']"
   ]
  },
  {
   "cell_type": "code",
   "execution_count": null,
   "metadata": {},
   "outputs": [],
   "source": [
    "grid_res = dem_data['grid_res']"
   ]
  },
  {
   "cell_type": "code",
   "execution_count": null,
   "metadata": {},
   "outputs": [],
   "source": [
    "# Create the 3D NumPy array of spatially referenced data\n",
    "# This is spatially referenced such that the grid is 20 by 5 by 10\n",
    "#   (nx by ny by nz)\n",
    "values = dem_data['dem_array']\n",
    "\n",
    "dim_x, dim_y = values.shape"
   ]
  },
  {
   "cell_type": "code",
   "execution_count": null,
   "metadata": {},
   "outputs": [],
   "source": [
    "# Create the spatial reference\n",
    "grid = pv.UniformGrid()\n",
    "\n",
    "# Set the grid dimensions: shape because we want to inject our values on the\n",
    "#   POINT data\n",
    "grid.dimensions = (dim_x, dim_y, 1)\n",
    "\n",
    "# Edit the spatial reference\n",
    "grid.origin = (x_min, y_min, 0)  # The bottom left corner of the data set\n",
    "grid.spacing = (grid_res,grid_res, 1)  # These are the cell sizes along each axis\n",
    "\n",
    "# Add the data values to the cell data\n",
    "grid.point_arrays[\"values\"] = values.flatten(order=\"F\")  # Flatten the array!"
   ]
  },
  {
   "cell_type": "code",
   "execution_count": null,
   "metadata": {},
   "outputs": [],
   "source": [
    "grid = grid.warp_by_scalar()"
   ]
  },
  {
   "cell_type": "code",
   "execution_count": null,
   "metadata": {},
   "outputs": [],
   "source": [
    "from itkwidgets import view"
   ]
  },
  {
   "cell_type": "code",
   "execution_count": null,
   "metadata": {},
   "outputs": [],
   "source": [
    "view(geometries=grid)"
   ]
  },
  {
   "cell_type": "code",
   "execution_count": null,
   "metadata": {},
   "outputs": [],
   "source": [
    "bores = [ p for p in lines_dict.values() ]"
   ]
  },
  {
   "cell_type": "code",
   "execution_count": null,
   "metadata": {},
   "outputs": [],
   "source": [
    "view(geometries = bores[0:4])"
   ]
  },
  {
   "cell_type": "code",
   "execution_count": null,
   "metadata": {},
   "outputs": [],
   "source": [
    "dp = VisualizeDataProcess()"
   ]
  },
  {
   "cell_type": "code",
   "execution_count": null,
   "metadata": {},
   "outputs": [],
   "source": [
    "surf_data = dp.dem_data_process(dem_data, height_adjustment_factor)"
   ]
  },
  {
   "cell_type": "code",
   "execution_count": null,
   "metadata": {},
   "outputs": [],
   "source": [
    "view(geometries=(bores[0:4] + [surf_data]))"
   ]
  },
  {
   "cell_type": "code",
   "execution_count": null,
   "metadata": {},
   "outputs": [],
   "source": [
    "# TODO: how could this information be serialised/reloaded between notebooks?\n",
    "# (442.0, 824.0)\n",
    "dp.ahd_min=442\n",
    "dp.ahd_max=824\n",
    "ahd_min=442\n",
    "ahd_max=824\n",
    "z_ahd_coords = np.arange(ahd_min,ahd_max,1)\n",
    "dim_x,dim_y,dim_z = lithology_3d_array.shape\n",
    "dims = (dim_x,dim_y,dim_z)"
   ]
  },
  {
   "cell_type": "code",
   "execution_count": null,
   "metadata": {},
   "outputs": [],
   "source": [
    "layer_from = 5\n",
    "layer_to=5\n",
    "vol = dp.build_layer_mesh(lithology_3d_array, height_adjustment_factor, layer_from, layer_to)"
   ]
  },
  {
   "cell_type": "code",
   "execution_count": null,
   "metadata": {},
   "outputs": [],
   "source": [
    "view(geometries=[vol, surf_data])"
   ]
  },
  {
   "cell_type": "code",
   "execution_count": null,
   "metadata": {},
   "outputs": [],
   "source": [
    "vol.point_arrays"
   ]
  },
  {
   "cell_type": "code",
   "execution_count": null,
   "metadata": {},
   "outputs": [],
   "source": [
    "vol = grid"
   ]
  },
  {
   "cell_type": "code",
   "execution_count": null,
   "metadata": {},
   "outputs": [],
   "source": []
  },
  {
   "cell_type": "code",
   "execution_count": null,
   "metadata": {},
   "outputs": [],
   "source": [
    "type(vol), vol.dimensions"
   ]
  },
  {
   "cell_type": "code",
   "execution_count": null,
   "metadata": {},
   "outputs": [],
   "source": [
    "viewer = view(geometries=vol)"
   ]
  },
  {
   "cell_type": "code",
   "execution_count": null,
   "metadata": {},
   "outputs": [],
   "source": [
    "# # `view` returns the widget object\n",
    "# viewer = view(image, annotations=False)\n",
    "\n",
    "# # Create an itk smoother filter object. By re-using the object, output memory-reallocation is avoided\n",
    "# smoother = itk.MedianImageFilter.New(image)\n",
    "\n",
    "# # Define a function to use with ipywidgets `interactive`\n",
    "# def smooth_and_view(radius=2):\n",
    "#     smoother.SetRadius(radius)\n",
    "#     smoother.Update()\n",
    "#     # Update the image used in the viewer\n",
    "#     viewer.image = smoother.GetOutput()\n",
    "# slider = interactive(smooth_and_view, radius=(0, 10, 1))\n",
    "\n",
    "# widgets.VBox([viewer, slider])"
   ]
  },
  {
   "cell_type": "markdown",
   "metadata": {},
   "source": [
    "## Experimenting with pyvista's PlotterITK."
   ]
  },
  {
   "cell_type": "code",
   "execution_count": null,
   "metadata": {},
   "outputs": [],
   "source": [
    "plotter = pv.PlotterITK()"
   ]
  },
  {
   "cell_type": "code",
   "execution_count": null,
   "metadata": {},
   "outputs": [],
   "source": [
    "ks = [k for k in lines_dict.keys()]\n",
    "len(ks)"
   ]
  },
  {
   "cell_type": "code",
   "execution_count": null,
   "metadata": {},
   "outputs": [],
   "source": [
    "current_start_well = ''"
   ]
  },
  {
   "cell_type": "code",
   "execution_count": null,
   "metadata": {},
   "outputs": [],
   "source": [
    "def plot_borelitho(i, n=10):\n",
    "    current_start_well = ks[i * n]\n",
    "    plotter = pv.PlotterITK()\n",
    "    for j in range(n):\n",
    "        k = i * n + j\n",
    "        if k < len(ks):\n",
    "            plotter.add_mesh(lines_dict.get(ks[k]),\n",
    "                         scalars=dp.scalar_prop_name,\n",
    "                         scalar_bar_args=sargs,\n",
    "                         annotations=annotations,\n",
    "                         show_edges=False,\n",
    "                         edge_color=\"white\",\n",
    "                         n_colors=len(annotations),\n",
    "                         nan_color=\"black\",\n",
    "                         clim=[0, len(annotations)-1],\n",
    "                         opacity=1,\n",
    "                         )\n",
    "    #plotter.add_mesh(grid, opacity=0.8)\n",
    "    plotter.add_mesh(surf_data, opacity=0.3)\n",
    "    #plotter.show_bounds(grid, show_xaxis=True, show_yaxis=True, show_zaxis=False)\n",
    "    return plotter\n"
   ]
  },
  {
   "cell_type": "code",
   "execution_count": null,
   "metadata": {},
   "outputs": [],
   "source": [
    "plot_borelitho(0, 200).show()\n"
   ]
  },
  {
   "cell_type": "code",
   "execution_count": null,
   "metadata": {},
   "outputs": [],
   "source": [
    "for well in lines_dict.keys():\n",
    "    plotter.add_mesh(lines_dict.get(well),\n",
    "                     scalars=dp.scalar_prop_name,\n",
    "                     scalar_bar_args=sargs,\n",
    "                     annotations=annotations,\n",
    "                     show_edges=False,\n",
    "                     edge_color=\"white\",\n",
    "                     n_colors=len(annotations),\n",
    "                     nan_color=\"black\",\n",
    "                     clim=[0, len(annotations)-1],\n",
    "                     opacity=1,\n",
    "                     )"
   ]
  },
  {
   "cell_type": "code",
   "execution_count": null,
   "metadata": {},
   "outputs": [],
   "source": [
    "# plotter.add_mesh(layer, scalars=\"Lithology\", n_colors=len(annotations), clim=[0, len(annotations)-1], show_scalar_bar=False)\n",
    "# plotter.add_mesh(grid, opacity=0.9)\n",
    "#plotter.show_bounds(grid, show_xaxis=True, show_yaxis=True, show_zaxis=False)\n",
    "#plotter.show_axes()"
   ]
  },
  {
   "cell_type": "markdown",
   "metadata": {},
   "source": [
    "CAUTION: the following as of 2019-10-14 will crash the browser tab."
   ]
  },
  {
   "cell_type": "code",
   "execution_count": null,
   "metadata": {},
   "outputs": [],
   "source": [
    "# Crashes the browser tab as of 2019-10-06\n",
    "plotter.show()"
   ]
  },
  {
   "cell_type": "code",
   "execution_count": null,
   "metadata": {},
   "outputs": [],
   "source": []
  }
 ],
 "metadata": {
  "kernelspec": {
   "display_name": "Lithology",
   "language": "python",
   "name": "ela"
  },
  "language_info": {
   "codemirror_mode": {
    "name": "ipython",
    "version": 3
   },
   "file_extension": ".py",
   "mimetype": "text/x-python",
   "name": "python",
   "nbconvert_exporter": "python",
   "pygments_lexer": "ipython3",
   "version": "3.7.3"
  }
 },
 "nbformat": 4,
 "nbformat_minor": 4
}
